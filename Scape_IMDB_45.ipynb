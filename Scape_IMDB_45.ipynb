{
 "cells": [
  {
   "cell_type": "code",
   "execution_count": null,
   "id": "6796bb2e",
   "metadata": {},
   "outputs": [],
   "source": [
    "import requests\n",
    "from bs4 import BeautifulSoup\n",
    "import pandas as pd\n",
    "import re"
   ]
  },
  {
   "cell_type": "code",
   "execution_count": 2,
   "id": "dbb65187",
   "metadata": {},
   "outputs": [],
   "source": [
    "withID=pd.read_csv('withID.csv')"
   ]
  },
  {
   "cell_type": "code",
   "execution_count": 3,
   "id": "ac08e5a7",
   "metadata": {},
   "outputs": [],
   "source": [
    "ID=withID['ID']"
   ]
  },
  {
   "cell_type": "code",
   "execution_count": 4,
   "id": "6fbbf9b2",
   "metadata": {},
   "outputs": [],
   "source": [
    "pd.options.display.max_colwidth=500"
   ]
  },
  {
   "cell_type": "code",
   "execution_count": 5,
   "id": "942a240a",
   "metadata": {},
   "outputs": [],
   "source": [
    "for z in withID['ID']:\n",
    "    y='https://www.imdb.com/title/'+z+'/ratings?demo=females_aged_45_plus&ref_=ttrt_fltr_females_aged_45_plus'\n",
    "    r=requests.get(y)\n",
    "    Soup=BeautifulSoup(r.text,'html.parser')\n",
    "    score45=Soup.find_all('div',{'class':'topAligned'})\n",
    "    n_votes=Soup.find_all('div',{'class':'leftAligned'})\n",
    "    try:\n",
    "        score_45=score45[len(score45)-1].string\n",
    "        match_score=re.findall('\\d\\.?\\d%',score_45)\n",
    "        n_votes1=n_votes[len(n_votes)-4].string\n",
    "        withID.loc[withID.ID==z,'45_Years']=match_score\n",
    "        withID.loc[withID.ID==z,'N_Votes']=n_votes1\n",
    "    except:\n",
    "        pass"
   ]
  },
  {
   "cell_type": "code",
   "execution_count": 7,
   "id": "f5fb335d",
   "metadata": {},
   "outputs": [],
   "source": [
    "for z in withID['ID']:\n",
    "    y='https://www.imdb.com/title/'+z+'/parentalguide'\n",
    "    r=requests.get(y)\n",
    "    Soup=BeautifulSoup(r.text,'html.parser')\n",
    "    parentalguide=Soup.find_all('div',{'class':'ipl-swapper__content ipl-swapper__content-primary'})\n",
    "    \n",
    "    try:\n",
    "        parentalguide1=parentalguide[0].span.string\n",
    "        withID.loc[withID.ID==z,'ParentalGuide']=parentalguide1\n",
    "    except:\n",
    "        pass"
   ]
  },
  {
   "cell_type": "code",
   "execution_count": null,
   "id": "dd8af671",
   "metadata": {},
   "outputs": [],
   "source": [
    "withID.drop(columns=['Unnamed: 0'])"
   ]
  },
  {
   "cell_type": "code",
   "execution_count": null,
   "id": "b95afb1f",
   "metadata": {},
   "outputs": [],
   "source": [
    "withID.to_csv('old_years_movies.csv',index=False)"
   ]
  },
  {
   "cell_type": "code",
   "execution_count": null,
   "id": "d4a938e7",
   "metadata": {},
   "outputs": [],
   "source": [
    "old_years_movies=pd.read_csv('old_years_movies.csv')"
   ]
  },
  {
   "cell_type": "code",
   "execution_count": null,
   "id": "70c8f270",
   "metadata": {},
   "outputs": [],
   "source": [
    "old_years_movies.loc[old_years_movies.N_Votes==0,'45_Years']=0"
   ]
  },
  {
   "cell_type": "code",
   "execution_count": null,
   "id": "c4998e9d",
   "metadata": {},
   "outputs": [],
   "source": [
    "old_years_movies.head(60)"
   ]
  },
  {
   "cell_type": "code",
   "execution_count": null,
   "id": "bb650594",
   "metadata": {},
   "outputs": [],
   "source": [
    "old_years_movies.to_csv('old_years_movies.csv',index=False)"
   ]
  },
  {
   "cell_type": "code",
   "execution_count": null,
   "id": "29f1e25d",
   "metadata": {},
   "outputs": [],
   "source": [
    "old_years_movies.drop(columns=['Unnamed: 0'])"
   ]
  },
  {
   "cell_type": "code",
   "execution_count": null,
   "id": "c222f548",
   "metadata": {},
   "outputs": [],
   "source": []
  }
 ],
 "metadata": {
  "kernelspec": {
   "display_name": "Python 3 (ipykernel)",
   "language": "python",
   "name": "python3"
  },
  "language_info": {
   "codemirror_mode": {
    "name": "ipython",
    "version": 3
   },
   "file_extension": ".py",
   "mimetype": "text/x-python",
   "name": "python",
   "nbconvert_exporter": "python",
   "pygments_lexer": "ipython3",
   "version": "3.9.7"
  }
 },
 "nbformat": 4,
 "nbformat_minor": 5
}
