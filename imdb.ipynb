{
 "cells": [
  {
   "cell_type": "code",
   "execution_count": 1,
   "id": "66a375af",
   "metadata": {},
   "outputs": [],
   "source": [
    "import imdb\n",
    "import pandas as pd"
   ]
  },
  {
   "cell_type": "markdown",
   "id": "b99e84c2",
   "metadata": {},
   "source": [
    "movies=pd.read_csv('csvmovie.csv')"
   ]
  },
  {
   "cell_type": "code",
   "execution_count": 2,
   "id": "13850565",
   "metadata": {},
   "outputs": [],
   "source": [
    "moviesDB=imdb.IMDb()"
   ]
  },
  {
   "cell_type": "code",
   "execution_count": 3,
   "id": "a482d8af",
   "metadata": {},
   "outputs": [],
   "source": [
    "movies=pd.read_csv('csvmovie.csv')"
   ]
  },
  {
   "cell_type": "code",
   "execution_count": 4,
   "id": "8f9cd2dd",
   "metadata": {},
   "outputs": [
    {
     "data": {
      "text/html": [
       "<div>\n",
       "<style scoped>\n",
       "    .dataframe tbody tr th:only-of-type {\n",
       "        vertical-align: middle;\n",
       "    }\n",
       "\n",
       "    .dataframe tbody tr th {\n",
       "        vertical-align: top;\n",
       "    }\n",
       "\n",
       "    .dataframe thead th {\n",
       "        text-align: right;\n",
       "    }\n",
       "</style>\n",
       "<table border=\"1\" class=\"dataframe\">\n",
       "  <thead>\n",
       "    <tr style=\"text-align: right;\">\n",
       "      <th></th>\n",
       "      <th>Movies</th>\n",
       "    </tr>\n",
       "  </thead>\n",
       "  <tbody>\n",
       "    <tr>\n",
       "      <th>0</th>\n",
       "      <td>Joker (2019)</td>\n",
       "    </tr>\n",
       "    <tr>\n",
       "      <th>1</th>\n",
       "      <td>Spotlight (2015)</td>\n",
       "    </tr>\n",
       "    <tr>\n",
       "      <th>2</th>\n",
       "      <td>Three Billboards Outside Ebbing, Missouri (2017)</td>\n",
       "    </tr>\n",
       "    <tr>\n",
       "      <th>3</th>\n",
       "      <td>Lady Bird (2017)</td>\n",
       "    </tr>\n",
       "    <tr>\n",
       "      <th>4</th>\n",
       "      <td>The Witch (2015)</td>\n",
       "    </tr>\n",
       "    <tr>\n",
       "      <th>...</th>\n",
       "      <td>...</td>\n",
       "    </tr>\n",
       "    <tr>\n",
       "      <th>176</th>\n",
       "      <td>Dogtooth (2009)</td>\n",
       "    </tr>\n",
       "    <tr>\n",
       "      <th>177</th>\n",
       "      <td>The  Lobster (2015)</td>\n",
       "    </tr>\n",
       "    <tr>\n",
       "      <th>178</th>\n",
       "      <td>The Killing of a Sacred Deer (2017)</td>\n",
       "    </tr>\n",
       "    <tr>\n",
       "      <th>179</th>\n",
       "      <td>The Favourite (2018)</td>\n",
       "    </tr>\n",
       "    <tr>\n",
       "      <th>180</th>\n",
       "      <td>Alps (2011)</td>\n",
       "    </tr>\n",
       "  </tbody>\n",
       "</table>\n",
       "<p>181 rows × 1 columns</p>\n",
       "</div>"
      ],
      "text/plain": [
       "                                               Movies\n",
       "0                                        Joker (2019)\n",
       "1                                    Spotlight (2015)\n",
       "2    Three Billboards Outside Ebbing, Missouri (2017)\n",
       "3                                    Lady Bird (2017)\n",
       "4                                    The Witch (2015)\n",
       "..                                                ...\n",
       "176                                   Dogtooth (2009)\n",
       "177                               The  Lobster (2015)\n",
       "178               The Killing of a Sacred Deer (2017)\n",
       "179                              The Favourite (2018)\n",
       "180                                       Alps (2011)\n",
       "\n",
       "[181 rows x 1 columns]"
      ]
     },
     "execution_count": 4,
     "metadata": {},
     "output_type": "execute_result"
    }
   ],
   "source": [
    "movies"
   ]
  },
  {
   "cell_type": "code",
   "execution_count": 5,
   "id": "b7c90f36",
   "metadata": {},
   "outputs": [],
   "source": [
    "movies['ID']='tt'"
   ]
  },
  {
   "cell_type": "code",
   "execution_count": 6,
   "id": "7708de83",
   "metadata": {},
   "outputs": [],
   "source": [
    "for movie in movies['Movies']:\n",
    "    s_movies=moviesDB.search_movie(movie)  \n",
    "    try:\n",
    "        asli_movie=s_movies[0]\n",
    "    except:\n",
    "            pass\n",
    "    title=asli_movie['title']\n",
    "    ID=asli_movie.getID()\n",
    "    movies.loc[movies.Movies==movie,'ID']='tt'+ID"
   ]
  },
  {
   "cell_type": "code",
   "execution_count": 7,
   "id": "c3010eeb",
   "metadata": {},
   "outputs": [
    {
     "data": {
      "text/html": [
       "<div>\n",
       "<style scoped>\n",
       "    .dataframe tbody tr th:only-of-type {\n",
       "        vertical-align: middle;\n",
       "    }\n",
       "\n",
       "    .dataframe tbody tr th {\n",
       "        vertical-align: top;\n",
       "    }\n",
       "\n",
       "    .dataframe thead th {\n",
       "        text-align: right;\n",
       "    }\n",
       "</style>\n",
       "<table border=\"1\" class=\"dataframe\">\n",
       "  <thead>\n",
       "    <tr style=\"text-align: right;\">\n",
       "      <th></th>\n",
       "      <th>Movies</th>\n",
       "      <th>ID</th>\n",
       "    </tr>\n",
       "  </thead>\n",
       "  <tbody>\n",
       "    <tr>\n",
       "      <th>0</th>\n",
       "      <td>Joker (2019)</td>\n",
       "      <td>tt7286456</td>\n",
       "    </tr>\n",
       "    <tr>\n",
       "      <th>1</th>\n",
       "      <td>Spotlight (2015)</td>\n",
       "      <td>tt1895587</td>\n",
       "    </tr>\n",
       "    <tr>\n",
       "      <th>2</th>\n",
       "      <td>Three Billboards Outside Ebbing, Missouri (2017)</td>\n",
       "      <td>tt5027774</td>\n",
       "    </tr>\n",
       "    <tr>\n",
       "      <th>3</th>\n",
       "      <td>Lady Bird (2017)</td>\n",
       "      <td>tt4925292</td>\n",
       "    </tr>\n",
       "    <tr>\n",
       "      <th>4</th>\n",
       "      <td>The Witch (2015)</td>\n",
       "      <td>tt4263482</td>\n",
       "    </tr>\n",
       "    <tr>\n",
       "      <th>...</th>\n",
       "      <td>...</td>\n",
       "      <td>...</td>\n",
       "    </tr>\n",
       "    <tr>\n",
       "      <th>176</th>\n",
       "      <td>Dogtooth (2009)</td>\n",
       "      <td>tt1379182</td>\n",
       "    </tr>\n",
       "    <tr>\n",
       "      <th>177</th>\n",
       "      <td>The  Lobster (2015)</td>\n",
       "      <td>tt3464902</td>\n",
       "    </tr>\n",
       "    <tr>\n",
       "      <th>178</th>\n",
       "      <td>The Killing of a Sacred Deer (2017)</td>\n",
       "      <td>tt5715874</td>\n",
       "    </tr>\n",
       "    <tr>\n",
       "      <th>179</th>\n",
       "      <td>The Favourite (2018)</td>\n",
       "      <td>tt5083738</td>\n",
       "    </tr>\n",
       "    <tr>\n",
       "      <th>180</th>\n",
       "      <td>Alps (2011)</td>\n",
       "      <td>tt1859446</td>\n",
       "    </tr>\n",
       "  </tbody>\n",
       "</table>\n",
       "<p>181 rows × 2 columns</p>\n",
       "</div>"
      ],
      "text/plain": [
       "                                               Movies         ID\n",
       "0                                        Joker (2019)  tt7286456\n",
       "1                                    Spotlight (2015)  tt1895587\n",
       "2    Three Billboards Outside Ebbing, Missouri (2017)  tt5027774\n",
       "3                                    Lady Bird (2017)  tt4925292\n",
       "4                                    The Witch (2015)  tt4263482\n",
       "..                                                ...        ...\n",
       "176                                   Dogtooth (2009)  tt1379182\n",
       "177                               The  Lobster (2015)  tt3464902\n",
       "178               The Killing of a Sacred Deer (2017)  tt5715874\n",
       "179                              The Favourite (2018)  tt5083738\n",
       "180                                       Alps (2011)  tt1859446\n",
       "\n",
       "[181 rows x 2 columns]"
      ]
     },
     "execution_count": 7,
     "metadata": {},
     "output_type": "execute_result"
    }
   ],
   "source": [
    "movies"
   ]
  },
  {
   "cell_type": "code",
   "execution_count": 8,
   "id": "6bbf902b",
   "metadata": {},
   "outputs": [],
   "source": [
    "movies.to_csv('withID.csv')"
   ]
  },
  {
   "cell_type": "code",
   "execution_count": null,
   "id": "4ba44384",
   "metadata": {},
   "outputs": [],
   "source": []
  }
 ],
 "metadata": {
  "kernelspec": {
   "display_name": "Python 3 (ipykernel)",
   "language": "python",
   "name": "python3"
  },
  "language_info": {
   "codemirror_mode": {
    "name": "ipython",
    "version": 3
   },
   "file_extension": ".py",
   "mimetype": "text/x-python",
   "name": "python",
   "nbconvert_exporter": "python",
   "pygments_lexer": "ipython3",
   "version": "3.9.7"
  }
 },
 "nbformat": 4,
 "nbformat_minor": 5
}
